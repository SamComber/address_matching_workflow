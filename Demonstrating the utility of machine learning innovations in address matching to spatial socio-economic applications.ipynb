{
 "cells": [
  {
   "cell_type": "markdown",
   "metadata": {},
   "source": [
    "# __Abstract__"
   ]
  },
  {
   "cell_type": "markdown",
   "metadata": {},
   "source": [
    "The last decade has heralded an unprecedented rise in the number, frequency and availability of data sources.  Yet they are often incomplete, meaning data fusion is required to enhance their quality and scope. In the context of spatial analysis, address matching is critical to enhancing household socio-economic and demographic characteristics. Matching administrative, commercial, or lifestyle data sources to items such as household surveys has the potential benefits of improving data quality, enabling spatial data visualisation, and the lowering of respondent burden in household surveys. Typically when a practitioner has high quality data, unique identifiers are used to facilitate a direct linkage between household addresses. However, real-world databases are often absent of unique identifiers to enable a one-to-one match. Moreover, irregularities between the text representations of potential matches mean extensive cleaning of the data is often required as a pre-processing step. For this reason, practitioners have traditionally relied on two linkage techniques for facilitating matches between the text representations of addresses that are broadly divided into deterministic or mathematical approaches. Deterministic matching consists of constructing hand-crafted rules that classify address matches and non-matches based on specialist domain knowledge, while mathematical approaches have increasingly adopted machine learning techniques for resolving pairs of addresses to a match. In this notebook we demonstrate methods of the latter by demonstrating the utility of machine learning approaches to the address matching work flow. To achieve this, we construct a predictive model that resolves matches between two small datasets of restaurant addresses in the US. While the problem case may seem trivial, the intention of the notebook is to demonstrate an approach that is reproducible and extensible to larger data challenges.  Thus, in the present notebook, we document an end-to-end pipeline that is replicable and instructive towards assisting future address matching problem cases faced by the regional scientist."
   ]
  },
  {
   "cell_type": "markdown",
   "metadata": {},
   "source": [
    "# Road map\n",
    "\n",
    "1. [Packages and dependencies](#package_dependencies)\n",
    "2. [Data loading, cleaning and segmentation](#section_standardisation)\n",
    " 1. [Segmentation of address string into field columns](#section_segmentation)\n",
    "3. [Creation of candidate address pairs using a full index](#section_fullindex)\n",
    " 1. [Creation of comparison vectors from indexed addresses](#section_comp_vecs_full)\n",
    " 2. [Classification and evaluation of match performance](#section_classification_fullindex)\n",
    "4. [Creation of candidate address pairs by blocking on zipcode](#section_blocking)\n",
    " 1. [Creation of synthetic non-matched addresses](#section_synthetic_nonmatches)\n",
    " 2. [Blocking on postcode attribute](#section_blocking_postcode_attribute)\n",
    " 3. [Classification and evaluation of match performance](#section_evaluation)\n",
    "5. [Conclusion](#section_conclusion)\n",
    "6. [Bibliography](#section_bibliography)"
   ]
  },
  {
   "cell_type": "markdown",
   "metadata": {},
   "source": [
    "Our overarching objective is to demonstrate how machine learning can be integrated into the address matching work flow. By definition, address matching pertains to the process of resolving pairs of records with a spatial footprint. While geospatial matching links the geometric representations of spatial objects, address matching typically involves linking the text-based representations of address pairs. The utility of address matching, and record linkage in general, lies in the ability to unlock attributes from sources of data that cannot be linked by traditional means. This is often because the datasets lack a common key to resolve a join between the address of a premise. Two example applications of address matching uses include: the linkage of historical censuses across time for exploring economic and geographic mobility across multiple generations (Ruggles et al. 2018), and exploring how early-life hazardous environmental exposure, socio-economic conditions, or natural disasters impact the health and economic outcomes of individuals living in particular residential locations (Cayo & Talbot, 2003; Reynolds et al., 2003; Baldovin et al., 2015).\n",
    "\n",
    "For demonstrative purposes, we rely on small a set of addresses from the Fodors and Zagat restaurant guides that contain 112 matched addresses for training a predictive model that resolves address pairs to matches and non-matches. In a real-world application, training a machine learning model on a small sample of matched addresses could be used to resolve matches between the remaining addresses of a larger dataset. While we use the example of restaurant addresses, these could easily be replaced by addresses from a far less trivial source and the work flow required to implement the address matching exercise would remain the same. Therefore, it is the intention of this guide to provide insight on how the work flow of a supervised address matching work flow proceeds, and to inspire interested users to scale the supplied code to larger and more interesting problems."
   ]
  },
  {
   "cell_type": "markdown",
   "metadata": {},
   "source": [
    "# <a id='package_dependencies'>Packages and dependencies</a>"
   ]
  },
  {
   "cell_type": "code",
   "execution_count": 1,
   "metadata": {},
   "outputs": [],
   "source": [
    "%matplotlib inline\n",
    "import os\n",
    "import uuid\n",
    "import warnings\n",
    "from IPython.display import HTML\n",
    "\n",
    "# load external libraries\n",
    "import pandas as pd\n",
    "import matplotlib.pyplot as plt\n",
    "import numpy as np\n",
    "import jellyfish\n",
    "import recordlinkage as rl\n",
    "import seaborn as sns\n",
    "from postal.parser import parse_address # CRF parser\n",
    "from sklearn.ensemble import RandomForestClassifier\n",
    "from sklearn.model_selection import cross_validate, train_test_split\n",
    "from sklearn.metrics import precision_score, recall_score, f1_score, confusion_matrix\n",
    "\n",
    "# configure some settings\n",
    "np.random.seed(123)\n",
    "sns.set_style('whitegrid')\n",
    "pd.set_option('display.max_colwidth', -1)\n",
    "warnings.simplefilter(action='ignore', category=FutureWarning)\n",
    "\n",
    "def hover(hover_color=\"#add8e6\"):\n",
    "    return dict(selector=\"tbody tr:hover\",\n",
    "            props=[(\"background-color\", \"%s\" % hover_color)])\n",
    "\n",
    "# table CSS\n",
    "styles = [\n",
    "    #table properties\n",
    "    dict(selector=\" \", \n",
    "         props=[(\"margin\",\"0\"),\n",
    "                (\"font-family\",'\"Helvetica\", \"Arial\", sans-serif'),\n",
    "                (\"border-collapse\", \"collapse\"),\n",
    "                (\"border\",\"none\"), (\"border-style\", \"hidden\")]),\n",
    "    dict(selector=\"td\", props = [(\"border-style\", \"hidden\"), \n",
    "                                 (\"border-collapse\", \"collapse\")]),\n",
    "\n",
    "    #header color \n",
    "    dict(selector=\"thead\", \n",
    "         props=[(\"background-color\",\"#a4dbc8\")]),\n",
    "\n",
    "    #background shading\n",
    "    dict(selector=\"tbody tr:nth-child(even)\",\n",
    "         props=[(\"background-color\", \"#fff\")]),\n",
    "    dict(selector=\"tbody tr:nth-child(odd)\",\n",
    "         props=[(\"background-color\", \"#eee\")]),\n",
    "\n",
    "    #header cell properties\n",
    "    dict(selector=\"th\", \n",
    "         props=[(\"text-align\", \"center\"),\n",
    "               (\"border-style\", \"hidden\"), \n",
    "               (\"border-collapse\", \"collapse\")]),\n",
    "\n",
    "    hover()\n",
    "]"
   ]
  },
  {
   "cell_type": "markdown",
   "metadata": {},
   "source": [
    "# <a id='section_standardisation'>Data loading, cleaning and segmentation</a>"
   ]
  },
  {
   "cell_type": "markdown",
   "metadata": {},
   "source": [
    "To begin our exercise we specify the file location that contains the  entirety of the 112 Zagat and Fodor matched address pairs."
   ]
  },
  {
   "cell_type": "code",
   "execution_count": 2,
   "metadata": {},
   "outputs": [],
   "source": [
    "f = 'zagat_fodor_matched.txt'"
   ]
  },
  {
   "cell_type": "markdown",
   "metadata": {},
   "source": [
    "Address matching is principally a data quality challenge. Similar to other areas of data analysis, when the quality of input data to the match classification is low, the output generated will typically be of low accuracy (Christen, 2012). Problematically, most address databases we encounter in the real world are inconsistent, are missing of several values, and lack standardisation. Thus, a first step in the address matching work flow is to increase the quality of input data. In this way we increase the accuracy, completeness and consistency of our address records, which increases the ease in which they can be linked by the techniques we apply later on. Typically this stage begins by parsing the text representations of addresses into rows of a dataframe."
   ]
  },
  {
   "cell_type": "code",
   "execution_count": 3,
   "metadata": {},
   "outputs": [],
   "source": [
    "# load matched addresses, remove comment lines and reshape into two columns\n",
    "data = pd.read_csv(f, comment='#', \n",
    "                  header=None, \n",
    "                  names=['address']).values.reshape(-1, 2)\n",
    "\n",
    "matched_address = pd.DataFrame(data, columns=['addr_zagat', 'addr_fodor'])"
   ]
  },
  {
   "cell_type": "code",
   "execution_count": 4,
   "metadata": {},
   "outputs": [
    {
     "name": "stdout",
     "output_type": "stream",
     "text": [
      "112 matched addresses loaded.\n"
     ]
    },
    {
     "data": {
      "text/html": [
       "<style  type=\"text/css\" >\n",
       "    #T_2680788c_b9c8_11e9_8a26_64006a838b96   {\n",
       "          margin: 0;\n",
       "          font-family: \"Helvetica\", \"Arial\", sans-serif;\n",
       "          border-collapse: collapse;\n",
       "          border: none;\n",
       "          border-style: hidden;\n",
       "    }    #T_2680788c_b9c8_11e9_8a26_64006a838b96 td {\n",
       "          border-style: hidden;\n",
       "          border-collapse: collapse;\n",
       "    }    #T_2680788c_b9c8_11e9_8a26_64006a838b96 thead {\n",
       "          background-color: #a4dbc8;\n",
       "    }    #T_2680788c_b9c8_11e9_8a26_64006a838b96 tbody tr:nth-child(even) {\n",
       "          background-color: #fff;\n",
       "    }    #T_2680788c_b9c8_11e9_8a26_64006a838b96 tbody tr:nth-child(odd) {\n",
       "          background-color: #eee;\n",
       "    }    #T_2680788c_b9c8_11e9_8a26_64006a838b96 th {\n",
       "          text-align: center;\n",
       "          border-style: hidden;\n",
       "          border-collapse: collapse;\n",
       "    }    #T_2680788c_b9c8_11e9_8a26_64006a838b96 tbody tr:hover {\n",
       "          background-color: #add8e6;\n",
       "    }</style>  \n",
       "<table id=\"T_2680788c_b9c8_11e9_8a26_64006a838b96\" > \n",
       "<thead>    <tr> \n",
       "        <th class=\"blank level0\" ></th> \n",
       "        <th class=\"col_heading level0 col0\" >addr_zagat</th> \n",
       "        <th class=\"col_heading level0 col1\" >addr_fodor</th> \n",
       "    </tr></thead> \n",
       "<tbody>    <tr> \n",
       "        <th id=\"T_2680788c_b9c8_11e9_8a26_64006a838b96level0_row0\" class=\"row_heading level0 row0\" >0</th> \n",
       "        <td id=\"T_2680788c_b9c8_11e9_8a26_64006a838b96row0_col0\" class=\"data row0 col0\" >Arnie Morton's of Chicago 435 S. La Cienega Blvd. Los Angeles 90048 310-246-1501 Steakhouses</td> \n",
       "        <td id=\"T_2680788c_b9c8_11e9_8a26_64006a838b96row0_col1\" class=\"data row0 col1\" >Arnie Morton's of Chicago 435 S. La Cienega Blvd. Los Angeles 90048 310/246-1501 American</td> \n",
       "    </tr>    <tr> \n",
       "        <th id=\"T_2680788c_b9c8_11e9_8a26_64006a838b96level0_row1\" class=\"row_heading level0 row1\" >1</th> \n",
       "        <td id=\"T_2680788c_b9c8_11e9_8a26_64006a838b96row1_col0\" class=\"data row1 col0\" >Art's Deli 12224 Ventura Blvd. Studio City 91604 818-762-1221 Delis</td> \n",
       "        <td id=\"T_2680788c_b9c8_11e9_8a26_64006a838b96row1_col1\" class=\"data row1 col1\" >Art's Delicatessen 12224 Ventura Blvd. Studio City 91604 818/762-1221 American</td> \n",
       "    </tr>    <tr> \n",
       "        <th id=\"T_2680788c_b9c8_11e9_8a26_64006a838b96level0_row2\" class=\"row_heading level0 row2\" >2</th> \n",
       "        <td id=\"T_2680788c_b9c8_11e9_8a26_64006a838b96row2_col0\" class=\"data row2 col0\" >Bel-Air Hotel 701 Stone Canyon Rd. Bel Air 90077 310-472-1211 Californian</td> \n",
       "        <td id=\"T_2680788c_b9c8_11e9_8a26_64006a838b96row2_col1\" class=\"data row2 col1\" >Hotel Bel-Air 701 Stone Canyon Rd. Bel Air 90077 310/472-1211 Californian</td> \n",
       "    </tr>    <tr> \n",
       "        <th id=\"T_2680788c_b9c8_11e9_8a26_64006a838b96level0_row3\" class=\"row_heading level0 row3\" >3</th> \n",
       "        <td id=\"T_2680788c_b9c8_11e9_8a26_64006a838b96row3_col0\" class=\"data row3 col0\" >Cafe Bizou 14016 Ventura Blvd. Sherman Oaks 91423 818-788-3536 French Bistro</td> \n",
       "        <td id=\"T_2680788c_b9c8_11e9_8a26_64006a838b96row3_col1\" class=\"data row3 col1\" >Cafe Bizou 14016 Ventura Blvd. Sherman Oaks 91423 818/788-3536 French</td> \n",
       "    </tr>    <tr> \n",
       "        <th id=\"T_2680788c_b9c8_11e9_8a26_64006a838b96level0_row4\" class=\"row_heading level0 row4\" >4</th> \n",
       "        <td id=\"T_2680788c_b9c8_11e9_8a26_64006a838b96row4_col0\" class=\"data row4 col0\" >Campanile 624 S. La Brea Ave. Los Angeles 90036 213-938-1447 Californian</td> \n",
       "        <td id=\"T_2680788c_b9c8_11e9_8a26_64006a838b96row4_col1\" class=\"data row4 col1\" >Campanile 624 S. La Brea Ave. Los Angeles 90036 213/938-1447 American</td> \n",
       "    </tr>    <tr> \n",
       "        <th id=\"T_2680788c_b9c8_11e9_8a26_64006a838b96level0_row5\" class=\"row_heading level0 row5\" >5</th> \n",
       "        <td id=\"T_2680788c_b9c8_11e9_8a26_64006a838b96row5_col0\" class=\"data row5 col0\" >Chinois on Main 2709 Main St. Santa Monica 90405 310-392-9025 Pacific New Wave</td> \n",
       "        <td id=\"T_2680788c_b9c8_11e9_8a26_64006a838b96row5_col1\" class=\"data row5 col1\" >Chinois on Main 2709 Main St. Santa Monica 90405 310/392-9025 French</td> \n",
       "    </tr>    <tr> \n",
       "        <th id=\"T_2680788c_b9c8_11e9_8a26_64006a838b96level0_row6\" class=\"row_heading level0 row6\" >6</th> \n",
       "        <td id=\"T_2680788c_b9c8_11e9_8a26_64006a838b96row6_col0\" class=\"data row6 col0\" >Citrus 6703 Melrose Ave. Los Angeles 90038 213-857-0034 Californian</td> \n",
       "        <td id=\"T_2680788c_b9c8_11e9_8a26_64006a838b96row6_col1\" class=\"data row6 col1\" >Citrus 6703 Melrose Ave. Los Angeles 90038 213/857-0034 Californian</td> \n",
       "    </tr>    <tr> \n",
       "        <th id=\"T_2680788c_b9c8_11e9_8a26_64006a838b96level0_row7\" class=\"row_heading level0 row7\" >7</th> \n",
       "        <td id=\"T_2680788c_b9c8_11e9_8a26_64006a838b96row7_col0\" class=\"data row7 col0\" >Fenix at the Argyle 8358 Sunset Blvd. W. Hollywood 90069 213-848-6677 French (New)</td> \n",
       "        <td id=\"T_2680788c_b9c8_11e9_8a26_64006a838b96row7_col1\" class=\"data row7 col1\" >Fenix 8358 Sunset Blvd. West Hollywood 90069 213/848-6677 American</td> \n",
       "    </tr>    <tr> \n",
       "        <th id=\"T_2680788c_b9c8_11e9_8a26_64006a838b96level0_row8\" class=\"row_heading level0 row8\" >8</th> \n",
       "        <td id=\"T_2680788c_b9c8_11e9_8a26_64006a838b96row8_col0\" class=\"data row8 col0\" >Granita 23725 W. Malibu Rd. Malibu 90265 310-456-0488 Californian</td> \n",
       "        <td id=\"T_2680788c_b9c8_11e9_8a26_64006a838b96row8_col1\" class=\"data row8 col1\" >Granita 23725 W. Malibu Rd. Malibu 90265 310/456-0488 Californian</td> \n",
       "    </tr>    <tr> \n",
       "        <th id=\"T_2680788c_b9c8_11e9_8a26_64006a838b96level0_row9\" class=\"row_heading level0 row9\" >9</th> \n",
       "        <td id=\"T_2680788c_b9c8_11e9_8a26_64006a838b96row9_col0\" class=\"data row9 col0\" >Grill  The 9560 Dayton Way Beverly Hills 90210 310-276-0615 American (Traditional)</td> \n",
       "        <td id=\"T_2680788c_b9c8_11e9_8a26_64006a838b96row9_col1\" class=\"data row9 col1\" >Grill on the Alley 9560 Dayton Way Los Angeles 90210 310/276-0615 American</td> \n",
       "    </tr></tbody> \n",
       "</table> "
      ],
      "text/plain": [
       "<pandas.io.formats.style.Styler at 0x7fd7417aa7f0>"
      ]
     },
     "execution_count": 4,
     "metadata": {},
     "output_type": "execute_result"
    }
   ],
   "source": [
    "print('{} matched addresses loaded.'.format(matched_address.shape[0]))\n",
    "matched_address.head(10).style.set_table_styles(styles)"
   ]
  },
  {
   "cell_type": "markdown",
   "metadata": {},
   "source": [
    "A series of data cleaning exercises will then modify the data in ways that support the application of the linkage techniques. This might involve writing data cleaning scripts that convert all letters to lowercase characters, delete leading and trailing whitespaces, remove unwanted characters and tokens such as punctuation, or using hard-coded look-up tables to find and replace particular tokens. All together coding these steps contributes towards a standard form between the two address databases the user is attempting to match. This is important because standards between the two sources of address data under consideration will typically differ due to different naming conventions.\n",
    "\n",
    "In the following cell blocks, we execute these steps by standardising our addresses. More specifically, we remove non-address components, convert all text to lower case and remove punctuation and non-alphanumeric characters."
   ]
  },
  {
   "cell_type": "code",
   "execution_count": 5,
   "metadata": {},
   "outputs": [],
   "source": [
    "# our rows contain non-address components such as phone number and \n",
    "# restaurant type so lets parse these using regular expressions into new columns\n",
    "zagat_pattern = r\"(?P<address>.*?)(?P<phone_number>\\b\\d{3}\\-\\d{3}\\-\\d{4}\\b)(?P<category>.*$)\"\n",
    "fodor_pattern = r\"(?P<address>.*?)(?P<phone_number>\\b\\d{3}\\/\\d{3}\\-\\d{4}\\b)(?P<category>.*$)\"\n",
    "\n",
    "matched_address[[\"addr_zagat\", \"phone_number_zagat\", \"category_zagat\"]] = matched_address[\"addr_zagat\"].str.extract(zagat_pattern)\n",
    "matched_address[[\"addr_fodor\", \"phone_number_fodor\", \"category_fodor\"]] = matched_address[\"addr_fodor\"].str.extract(fodor_pattern)"
   ]
  },
  {
   "cell_type": "code",
   "execution_count": 6,
   "metadata": {},
   "outputs": [],
   "source": [
    "# standardise dataframe by converting all strings to lower case\n",
    "matched_address = matched_address.applymap(lambda row : row.lower() if type(row) == str else row)\n",
    "\n",
    "# remove punctuation and non-alphanumeric characters\n",
    "matched_address['addr_zagat'] = matched_address['addr_zagat'].str.replace('[^\\w\\s]','')\n",
    "matched_address['addr_fodor'] = matched_address['addr_fodor'].str.replace('[^\\w\\s]','')"
   ]
  },
  {
   "cell_type": "markdown",
   "metadata": {},
   "source": [
    "### <a id='section_segmentation'>Segmentation of address string into field columns</a>"
   ]
  },
  {
   "cell_type": "markdown",
   "metadata": {},
   "source": [
    "After removing unwanted characters and tokens, our next step is to segment the entire address string into tagged attribute values. Addresses rarely come neatly formatted into sensible fields that identify each component, and so segmentation is a vital and often overlooked stage of the work flow. For example, an address might come in an unsegmented format such as \"19 Water St. New York 11201\". Our objective is then to segment (or label) this address into the appropriate columns for street number, street name, city and postcode. When we segment both sets of addresses from the datasets we intend to link, we build well-defined output fields that are suitable for matching. \n",
    "\n",
    "In our case we use a statistical segmentation tool called __Libpostal__ which is a Conditional Random Fields (CRFs) model trained on OpenStreetMap addresses. Before using the Python bindings, users are required to install the Libpostal C library first (see https://github.com/openvenues/pypostal#installation for installation instructions). CRFs are popular methods in natural language processing (NLP) for predicting sequence of labels across sequences of text inputs. Unlike discrete classifiers, CRFs model the probability of a transition between labels on \"neighbouring\" elements, meaning they take into account past and future address field states into the labelling of addresses into address fields. This mitigates a limitation of segmentation models such as hidden markov models (HMMs) called the _label bias problem_: \"transitions leaving a given state to compete only against each other, rather than against all transitions in the model\" (Lafferty et al., 2001). Take, for example, the business address for \"1st for Toys, 244 Ponce de Leon Ave. Atlanta 30308\". A naive segmentation model would incorrectly parse \"1st\" as a property number, whereas it actually completes the business name \"1st for Toys\", leading to an erroneous sequence of label predictions. When a CRFs has parsed \"1st\" and reaches the second token, \"for\", the model scores an $l\\times l$ matrix where $l$ is the maximal number of labels (or address fields) that can be assigned by the CRFs. In $L$, $l_{ij}$ reflects the probability of the current word being labelled as $i$ and the previous word labelled $j$ (Diesner & Carley, 2008). In a CRFs model, when the parser reaches the _actual_ property number, \"244\", high scoring in the matrix indicates the current label should be a property number, and the previous label revised to a business name. For a more detailed account, see Comber and Arribas-Bel (2019).\n",
    "\n",
    "To segment each address, we apply the `parse_address` function row-wise for both the Zagat and Fodors addresses. This generates a list of tuples (see below code block for an example of the first two addresses from the Zagat dataset) that we convert into dictionaries before finally reading these into a `pandas` dataframe."
   ]
  },
  {
   "cell_type": "code",
   "execution_count": 7,
   "metadata": {},
   "outputs": [
    {
     "data": {
      "text/plain": [
       "[[('arnie mortons of chicago', 'house'),\n",
       "  ('435', 'house_number'),\n",
       "  ('s la cienega blvd', 'road'),\n",
       "  ('los angeles', 'city'),\n",
       "  ('90048', 'postcode')],\n",
       " [('arts deli', 'house'),\n",
       "  ('12224', 'house_number'),\n",
       "  ('ventura blvd', 'road'),\n",
       "  ('studio city', 'city'),\n",
       "  ('91604', 'postcode')]]"
      ]
     },
     "execution_count": 7,
     "metadata": {},
     "output_type": "execute_result"
    }
   ],
   "source": [
    "[[('arnie mortons of chicago', 'house'),\n",
    "  ('435', 'house_number'),\n",
    "  ('s la cienega blvd', 'road'),\n",
    "  ('los angeles', 'city'),\n",
    "  ('90048', 'postcode')],\n",
    " [('arts deli', 'house'),\n",
    "  ('12224', 'house_number'),\n",
    "  ('ventura blvd', 'road'),\n",
    "  ('studio city', 'city'),\n",
    "  ('91604', 'postcode')]]"
   ]
  },
  {
   "cell_type": "code",
   "execution_count": 8,
   "metadata": {},
   "outputs": [],
   "source": [
    "# parse address string using libpostal CRF segmentation tool\n",
    "addr_zagat_parse = [parse_address(addr, country='us') for addr in matched_address.addr_zagat]\n",
    "addr_fodor_parse = [parse_address(addr, country='us') for addr in matched_address.addr_fodor]\n",
    "\n",
    "# convert to pandas dataframe\n",
    "addr_zagat_parse = pd.DataFrame.from_records([{k: v for v, k in row} for row in addr_zagat_parse]).add_suffix('_zagat')\n",
    "addr_fodor_parse = pd.DataFrame.from_records([{k: v for v, k in row} for row in addr_fodor_parse]).add_suffix('_fodor')\n",
    "\n",
    "# vertical join of CRF-parsed addresses between both dataframes\n",
    "matched_address = matched_address.join(addr_zagat_parse).join(addr_fodor_parse)"
   ]
  },
  {
   "cell_type": "markdown",
   "metadata": {},
   "source": [
    "Given we know the match status of our training data, we can safely join the records back together once we have successfully segmented them. Moreover, as we know the match status in advance, we can assign unique IDs that we will use later to create a binary variable for indicating whether an address pair is matched or non-matched."
   ]
  },
  {
   "cell_type": "code",
   "execution_count": 9,
   "metadata": {},
   "outputs": [],
   "source": [
    "# create unique ID for matched addresses, these will be used later to create a match status\n",
    "uids = [str(uuid.uuid4()) for i in matched_address.iterrows()]\n",
    "\n",
    "# the following two lines will assign the same uid to both columns, thus facilitating a match\n",
    "addr_zagat_parse['uid'], addr_fodor_parse['uid'] = uids, uids\n",
    "match_ids = pd.DataFrame({'zagat_id' : addr_fodor_parse['uid'], 'fodor_id' : addr_fodor_parse['uid']})"
   ]
  },
  {
   "cell_type": "code",
   "execution_count": 10,
   "metadata": {},
   "outputs": [
    {
     "data": {
      "text/html": [
       "<style  type=\"text/css\" >\n",
       "    #T_29e84996_b9c8_11e9_8a26_64006a838b96   {\n",
       "          margin: 0;\n",
       "          font-family: \"Helvetica\", \"Arial\", sans-serif;\n",
       "          border-collapse: collapse;\n",
       "          border: none;\n",
       "          border-style: hidden;\n",
       "    }    #T_29e84996_b9c8_11e9_8a26_64006a838b96 td {\n",
       "          border-style: hidden;\n",
       "          border-collapse: collapse;\n",
       "    }    #T_29e84996_b9c8_11e9_8a26_64006a838b96 thead {\n",
       "          background-color: #a4dbc8;\n",
       "    }    #T_29e84996_b9c8_11e9_8a26_64006a838b96 tbody tr:nth-child(even) {\n",
       "          background-color: #fff;\n",
       "    }    #T_29e84996_b9c8_11e9_8a26_64006a838b96 tbody tr:nth-child(odd) {\n",
       "          background-color: #eee;\n",
       "    }    #T_29e84996_b9c8_11e9_8a26_64006a838b96 th {\n",
       "          text-align: center;\n",
       "          border-style: hidden;\n",
       "          border-collapse: collapse;\n",
       "    }    #T_29e84996_b9c8_11e9_8a26_64006a838b96 tbody tr:hover {\n",
       "          background-color: #add8e6;\n",
       "    }</style>  \n",
       "<table id=\"T_29e84996_b9c8_11e9_8a26_64006a838b96\" > \n",
       "<thead>    <tr> \n",
       "        <th class=\"blank level0\" ></th> \n",
       "        <th class=\"col_heading level0 col0\" >addr_zagat</th> \n",
       "        <th class=\"col_heading level0 col1\" >addr_fodor</th> \n",
       "        <th class=\"col_heading level0 col2\" >phone_number_zagat</th> \n",
       "        <th class=\"col_heading level0 col3\" >category_zagat</th> \n",
       "        <th class=\"col_heading level0 col4\" >phone_number_fodor</th> \n",
       "        <th class=\"col_heading level0 col5\" >category_fodor</th> \n",
       "        <th class=\"col_heading level0 col6\" >city_zagat</th> \n",
       "        <th class=\"col_heading level0 col7\" >city_district_zagat</th> \n",
       "        <th class=\"col_heading level0 col8\" >house_zagat</th> \n",
       "        <th class=\"col_heading level0 col9\" >house_number_zagat</th> \n",
       "        <th class=\"col_heading level0 col10\" >postcode_zagat</th> \n",
       "        <th class=\"col_heading level0 col11\" >road_zagat</th> \n",
       "        <th class=\"col_heading level0 col12\" >suburb_zagat</th> \n",
       "        <th class=\"col_heading level0 col13\" >city_fodor</th> \n",
       "        <th class=\"col_heading level0 col14\" >city_district_fodor</th> \n",
       "        <th class=\"col_heading level0 col15\" >house_fodor</th> \n",
       "        <th class=\"col_heading level0 col16\" >house_number_fodor</th> \n",
       "        <th class=\"col_heading level0 col17\" >postcode_fodor</th> \n",
       "        <th class=\"col_heading level0 col18\" >road_fodor</th> \n",
       "        <th class=\"col_heading level0 col19\" >state_fodor</th> \n",
       "        <th class=\"col_heading level0 col20\" >suburb_fodor</th> \n",
       "        <th class=\"col_heading level0 col21\" >zagat_id</th> \n",
       "        <th class=\"col_heading level0 col22\" >fodor_id</th> \n",
       "    </tr></thead> \n",
       "<tbody>    <tr> \n",
       "        <th id=\"T_29e84996_b9c8_11e9_8a26_64006a838b96level0_row0\" class=\"row_heading level0 row0\" >0</th> \n",
       "        <td id=\"T_29e84996_b9c8_11e9_8a26_64006a838b96row0_col0\" class=\"data row0 col0\" >arnie mortons of chicago 435 s la cienega blvd los angeles 90048 </td> \n",
       "        <td id=\"T_29e84996_b9c8_11e9_8a26_64006a838b96row0_col1\" class=\"data row0 col1\" >arnie mortons of chicago 435 s la cienega blvd los angeles 90048 </td> \n",
       "        <td id=\"T_29e84996_b9c8_11e9_8a26_64006a838b96row0_col2\" class=\"data row0 col2\" >310-246-1501</td> \n",
       "        <td id=\"T_29e84996_b9c8_11e9_8a26_64006a838b96row0_col3\" class=\"data row0 col3\" > steakhouses</td> \n",
       "        <td id=\"T_29e84996_b9c8_11e9_8a26_64006a838b96row0_col4\" class=\"data row0 col4\" >310/246-1501</td> \n",
       "        <td id=\"T_29e84996_b9c8_11e9_8a26_64006a838b96row0_col5\" class=\"data row0 col5\" > american</td> \n",
       "        <td id=\"T_29e84996_b9c8_11e9_8a26_64006a838b96row0_col6\" class=\"data row0 col6\" >los angeles</td> \n",
       "        <td id=\"T_29e84996_b9c8_11e9_8a26_64006a838b96row0_col7\" class=\"data row0 col7\" >nan</td> \n",
       "        <td id=\"T_29e84996_b9c8_11e9_8a26_64006a838b96row0_col8\" class=\"data row0 col8\" >arnie mortons of chicago</td> \n",
       "        <td id=\"T_29e84996_b9c8_11e9_8a26_64006a838b96row0_col9\" class=\"data row0 col9\" >435</td> \n",
       "        <td id=\"T_29e84996_b9c8_11e9_8a26_64006a838b96row0_col10\" class=\"data row0 col10\" >90048</td> \n",
       "        <td id=\"T_29e84996_b9c8_11e9_8a26_64006a838b96row0_col11\" class=\"data row0 col11\" >s la cienega blvd</td> \n",
       "        <td id=\"T_29e84996_b9c8_11e9_8a26_64006a838b96row0_col12\" class=\"data row0 col12\" >nan</td> \n",
       "        <td id=\"T_29e84996_b9c8_11e9_8a26_64006a838b96row0_col13\" class=\"data row0 col13\" >los angeles</td> \n",
       "        <td id=\"T_29e84996_b9c8_11e9_8a26_64006a838b96row0_col14\" class=\"data row0 col14\" >nan</td> \n",
       "        <td id=\"T_29e84996_b9c8_11e9_8a26_64006a838b96row0_col15\" class=\"data row0 col15\" >arnie mortons of chicago</td> \n",
       "        <td id=\"T_29e84996_b9c8_11e9_8a26_64006a838b96row0_col16\" class=\"data row0 col16\" >435</td> \n",
       "        <td id=\"T_29e84996_b9c8_11e9_8a26_64006a838b96row0_col17\" class=\"data row0 col17\" >90048</td> \n",
       "        <td id=\"T_29e84996_b9c8_11e9_8a26_64006a838b96row0_col18\" class=\"data row0 col18\" >s la cienega blvd</td> \n",
       "        <td id=\"T_29e84996_b9c8_11e9_8a26_64006a838b96row0_col19\" class=\"data row0 col19\" >nan</td> \n",
       "        <td id=\"T_29e84996_b9c8_11e9_8a26_64006a838b96row0_col20\" class=\"data row0 col20\" >nan</td> \n",
       "        <td id=\"T_29e84996_b9c8_11e9_8a26_64006a838b96row0_col21\" class=\"data row0 col21\" >99bbcd03-ce45-40b5-907f-47f5ae16ae29</td> \n",
       "        <td id=\"T_29e84996_b9c8_11e9_8a26_64006a838b96row0_col22\" class=\"data row0 col22\" >99bbcd03-ce45-40b5-907f-47f5ae16ae29</td> \n",
       "    </tr>    <tr> \n",
       "        <th id=\"T_29e84996_b9c8_11e9_8a26_64006a838b96level0_row1\" class=\"row_heading level0 row1\" >1</th> \n",
       "        <td id=\"T_29e84996_b9c8_11e9_8a26_64006a838b96row1_col0\" class=\"data row1 col0\" >arts deli 12224 ventura blvd studio city 91604 </td> \n",
       "        <td id=\"T_29e84996_b9c8_11e9_8a26_64006a838b96row1_col1\" class=\"data row1 col1\" >arts delicatessen 12224 ventura blvd studio city 91604 </td> \n",
       "        <td id=\"T_29e84996_b9c8_11e9_8a26_64006a838b96row1_col2\" class=\"data row1 col2\" >818-762-1221</td> \n",
       "        <td id=\"T_29e84996_b9c8_11e9_8a26_64006a838b96row1_col3\" class=\"data row1 col3\" > delis</td> \n",
       "        <td id=\"T_29e84996_b9c8_11e9_8a26_64006a838b96row1_col4\" class=\"data row1 col4\" >818/762-1221</td> \n",
       "        <td id=\"T_29e84996_b9c8_11e9_8a26_64006a838b96row1_col5\" class=\"data row1 col5\" > american</td> \n",
       "        <td id=\"T_29e84996_b9c8_11e9_8a26_64006a838b96row1_col6\" class=\"data row1 col6\" >studio city</td> \n",
       "        <td id=\"T_29e84996_b9c8_11e9_8a26_64006a838b96row1_col7\" class=\"data row1 col7\" >nan</td> \n",
       "        <td id=\"T_29e84996_b9c8_11e9_8a26_64006a838b96row1_col8\" class=\"data row1 col8\" >arts deli</td> \n",
       "        <td id=\"T_29e84996_b9c8_11e9_8a26_64006a838b96row1_col9\" class=\"data row1 col9\" >12224</td> \n",
       "        <td id=\"T_29e84996_b9c8_11e9_8a26_64006a838b96row1_col10\" class=\"data row1 col10\" >91604</td> \n",
       "        <td id=\"T_29e84996_b9c8_11e9_8a26_64006a838b96row1_col11\" class=\"data row1 col11\" >ventura blvd</td> \n",
       "        <td id=\"T_29e84996_b9c8_11e9_8a26_64006a838b96row1_col12\" class=\"data row1 col12\" >nan</td> \n",
       "        <td id=\"T_29e84996_b9c8_11e9_8a26_64006a838b96row1_col13\" class=\"data row1 col13\" >studio city</td> \n",
       "        <td id=\"T_29e84996_b9c8_11e9_8a26_64006a838b96row1_col14\" class=\"data row1 col14\" >nan</td> \n",
       "        <td id=\"T_29e84996_b9c8_11e9_8a26_64006a838b96row1_col15\" class=\"data row1 col15\" >arts delicatessen</td> \n",
       "        <td id=\"T_29e84996_b9c8_11e9_8a26_64006a838b96row1_col16\" class=\"data row1 col16\" >12224</td> \n",
       "        <td id=\"T_29e84996_b9c8_11e9_8a26_64006a838b96row1_col17\" class=\"data row1 col17\" >91604</td> \n",
       "        <td id=\"T_29e84996_b9c8_11e9_8a26_64006a838b96row1_col18\" class=\"data row1 col18\" >ventura blvd</td> \n",
       "        <td id=\"T_29e84996_b9c8_11e9_8a26_64006a838b96row1_col19\" class=\"data row1 col19\" >nan</td> \n",
       "        <td id=\"T_29e84996_b9c8_11e9_8a26_64006a838b96row1_col20\" class=\"data row1 col20\" >nan</td> \n",
       "        <td id=\"T_29e84996_b9c8_11e9_8a26_64006a838b96row1_col21\" class=\"data row1 col21\" >1b1e1ee1-c880-4722-abaa-4ec44c7d94a6</td> \n",
       "        <td id=\"T_29e84996_b9c8_11e9_8a26_64006a838b96row1_col22\" class=\"data row1 col22\" >1b1e1ee1-c880-4722-abaa-4ec44c7d94a6</td> \n",
       "    </tr>    <tr> \n",
       "        <th id=\"T_29e84996_b9c8_11e9_8a26_64006a838b96level0_row2\" class=\"row_heading level0 row2\" >2</th> \n",
       "        <td id=\"T_29e84996_b9c8_11e9_8a26_64006a838b96row2_col0\" class=\"data row2 col0\" >belair hotel 701 stone canyon rd bel air 90077 </td> \n",
       "        <td id=\"T_29e84996_b9c8_11e9_8a26_64006a838b96row2_col1\" class=\"data row2 col1\" >hotel belair 701 stone canyon rd bel air 90077 </td> \n",
       "        <td id=\"T_29e84996_b9c8_11e9_8a26_64006a838b96row2_col2\" class=\"data row2 col2\" >310-472-1211</td> \n",
       "        <td id=\"T_29e84996_b9c8_11e9_8a26_64006a838b96row2_col3\" class=\"data row2 col3\" > californian</td> \n",
       "        <td id=\"T_29e84996_b9c8_11e9_8a26_64006a838b96row2_col4\" class=\"data row2 col4\" >310/472-1211</td> \n",
       "        <td id=\"T_29e84996_b9c8_11e9_8a26_64006a838b96row2_col5\" class=\"data row2 col5\" > californian</td> \n",
       "        <td id=\"T_29e84996_b9c8_11e9_8a26_64006a838b96row2_col6\" class=\"data row2 col6\" >nan</td> \n",
       "        <td id=\"T_29e84996_b9c8_11e9_8a26_64006a838b96row2_col7\" class=\"data row2 col7\" >nan</td> \n",
       "        <td id=\"T_29e84996_b9c8_11e9_8a26_64006a838b96row2_col8\" class=\"data row2 col8\" >belair hotel</td> \n",
       "        <td id=\"T_29e84996_b9c8_11e9_8a26_64006a838b96row2_col9\" class=\"data row2 col9\" >701</td> \n",
       "        <td id=\"T_29e84996_b9c8_11e9_8a26_64006a838b96row2_col10\" class=\"data row2 col10\" >90077</td> \n",
       "        <td id=\"T_29e84996_b9c8_11e9_8a26_64006a838b96row2_col11\" class=\"data row2 col11\" >stone canyon rd bel air</td> \n",
       "        <td id=\"T_29e84996_b9c8_11e9_8a26_64006a838b96row2_col12\" class=\"data row2 col12\" >nan</td> \n",
       "        <td id=\"T_29e84996_b9c8_11e9_8a26_64006a838b96row2_col13\" class=\"data row2 col13\" >nan</td> \n",
       "        <td id=\"T_29e84996_b9c8_11e9_8a26_64006a838b96row2_col14\" class=\"data row2 col14\" >nan</td> \n",
       "        <td id=\"T_29e84996_b9c8_11e9_8a26_64006a838b96row2_col15\" class=\"data row2 col15\" >hotel belair</td> \n",
       "        <td id=\"T_29e84996_b9c8_11e9_8a26_64006a838b96row2_col16\" class=\"data row2 col16\" >701</td> \n",
       "        <td id=\"T_29e84996_b9c8_11e9_8a26_64006a838b96row2_col17\" class=\"data row2 col17\" >90077</td> \n",
       "        <td id=\"T_29e84996_b9c8_11e9_8a26_64006a838b96row2_col18\" class=\"data row2 col18\" >stone canyon rd bel air</td> \n",
       "        <td id=\"T_29e84996_b9c8_11e9_8a26_64006a838b96row2_col19\" class=\"data row2 col19\" >nan</td> \n",
       "        <td id=\"T_29e84996_b9c8_11e9_8a26_64006a838b96row2_col20\" class=\"data row2 col20\" >nan</td> \n",
       "        <td id=\"T_29e84996_b9c8_11e9_8a26_64006a838b96row2_col21\" class=\"data row2 col21\" >f2548f68-2326-4706-bdc1-dbfc265ecbf3</td> \n",
       "        <td id=\"T_29e84996_b9c8_11e9_8a26_64006a838b96row2_col22\" class=\"data row2 col22\" >f2548f68-2326-4706-bdc1-dbfc265ecbf3</td> \n",
       "    </tr>    <tr> \n",
       "        <th id=\"T_29e84996_b9c8_11e9_8a26_64006a838b96level0_row3\" class=\"row_heading level0 row3\" >3</th> \n",
       "        <td id=\"T_29e84996_b9c8_11e9_8a26_64006a838b96row3_col0\" class=\"data row3 col0\" >cafe bizou 14016 ventura blvd sherman oaks 91423 </td> \n",
       "        <td id=\"T_29e84996_b9c8_11e9_8a26_64006a838b96row3_col1\" class=\"data row3 col1\" >cafe bizou 14016 ventura blvd sherman oaks 91423 </td> \n",
       "        <td id=\"T_29e84996_b9c8_11e9_8a26_64006a838b96row3_col2\" class=\"data row3 col2\" >818-788-3536</td> \n",
       "        <td id=\"T_29e84996_b9c8_11e9_8a26_64006a838b96row3_col3\" class=\"data row3 col3\" > french bistro</td> \n",
       "        <td id=\"T_29e84996_b9c8_11e9_8a26_64006a838b96row3_col4\" class=\"data row3 col4\" >818/788-3536</td> \n",
       "        <td id=\"T_29e84996_b9c8_11e9_8a26_64006a838b96row3_col5\" class=\"data row3 col5\" > french</td> \n",
       "        <td id=\"T_29e84996_b9c8_11e9_8a26_64006a838b96row3_col6\" class=\"data row3 col6\" >sherman oaks</td> \n",
       "        <td id=\"T_29e84996_b9c8_11e9_8a26_64006a838b96row3_col7\" class=\"data row3 col7\" >nan</td> \n",
       "        <td id=\"T_29e84996_b9c8_11e9_8a26_64006a838b96row3_col8\" class=\"data row3 col8\" >cafe bizou</td> \n",
       "        <td id=\"T_29e84996_b9c8_11e9_8a26_64006a838b96row3_col9\" class=\"data row3 col9\" >14016</td> \n",
       "        <td id=\"T_29e84996_b9c8_11e9_8a26_64006a838b96row3_col10\" class=\"data row3 col10\" >91423</td> \n",
       "        <td id=\"T_29e84996_b9c8_11e9_8a26_64006a838b96row3_col11\" class=\"data row3 col11\" >ventura blvd</td> \n",
       "        <td id=\"T_29e84996_b9c8_11e9_8a26_64006a838b96row3_col12\" class=\"data row3 col12\" >nan</td> \n",
       "        <td id=\"T_29e84996_b9c8_11e9_8a26_64006a838b96row3_col13\" class=\"data row3 col13\" >sherman oaks</td> \n",
       "        <td id=\"T_29e84996_b9c8_11e9_8a26_64006a838b96row3_col14\" class=\"data row3 col14\" >nan</td> \n",
       "        <td id=\"T_29e84996_b9c8_11e9_8a26_64006a838b96row3_col15\" class=\"data row3 col15\" >cafe bizou</td> \n",
       "        <td id=\"T_29e84996_b9c8_11e9_8a26_64006a838b96row3_col16\" class=\"data row3 col16\" >14016</td> \n",
       "        <td id=\"T_29e84996_b9c8_11e9_8a26_64006a838b96row3_col17\" class=\"data row3 col17\" >91423</td> \n",
       "        <td id=\"T_29e84996_b9c8_11e9_8a26_64006a838b96row3_col18\" class=\"data row3 col18\" >ventura blvd</td> \n",
       "        <td id=\"T_29e84996_b9c8_11e9_8a26_64006a838b96row3_col19\" class=\"data row3 col19\" >nan</td> \n",
       "        <td id=\"T_29e84996_b9c8_11e9_8a26_64006a838b96row3_col20\" class=\"data row3 col20\" >nan</td> \n",
       "        <td id=\"T_29e84996_b9c8_11e9_8a26_64006a838b96row3_col21\" class=\"data row3 col21\" >936687e2-1161-4ecd-98c3-b5ac620d8776</td> \n",
       "        <td id=\"T_29e84996_b9c8_11e9_8a26_64006a838b96row3_col22\" class=\"data row3 col22\" >936687e2-1161-4ecd-98c3-b5ac620d8776</td> \n",
       "    </tr>    <tr> \n",
       "        <th id=\"T_29e84996_b9c8_11e9_8a26_64006a838b96level0_row4\" class=\"row_heading level0 row4\" >4</th> \n",
       "        <td id=\"T_29e84996_b9c8_11e9_8a26_64006a838b96row4_col0\" class=\"data row4 col0\" >campanile 624 s la brea ave los angeles 90036 </td> \n",
       "        <td id=\"T_29e84996_b9c8_11e9_8a26_64006a838b96row4_col1\" class=\"data row4 col1\" >campanile 624 s la brea ave los angeles 90036 </td> \n",
       "        <td id=\"T_29e84996_b9c8_11e9_8a26_64006a838b96row4_col2\" class=\"data row4 col2\" >213-938-1447</td> \n",
       "        <td id=\"T_29e84996_b9c8_11e9_8a26_64006a838b96row4_col3\" class=\"data row4 col3\" > californian</td> \n",
       "        <td id=\"T_29e84996_b9c8_11e9_8a26_64006a838b96row4_col4\" class=\"data row4 col4\" >213/938-1447</td> \n",
       "        <td id=\"T_29e84996_b9c8_11e9_8a26_64006a838b96row4_col5\" class=\"data row4 col5\" > american</td> \n",
       "        <td id=\"T_29e84996_b9c8_11e9_8a26_64006a838b96row4_col6\" class=\"data row4 col6\" >los angeles</td> \n",
       "        <td id=\"T_29e84996_b9c8_11e9_8a26_64006a838b96row4_col7\" class=\"data row4 col7\" >nan</td> \n",
       "        <td id=\"T_29e84996_b9c8_11e9_8a26_64006a838b96row4_col8\" class=\"data row4 col8\" >campanile</td> \n",
       "        <td id=\"T_29e84996_b9c8_11e9_8a26_64006a838b96row4_col9\" class=\"data row4 col9\" >624</td> \n",
       "        <td id=\"T_29e84996_b9c8_11e9_8a26_64006a838b96row4_col10\" class=\"data row4 col10\" >90036</td> \n",
       "        <td id=\"T_29e84996_b9c8_11e9_8a26_64006a838b96row4_col11\" class=\"data row4 col11\" >s la brea ave</td> \n",
       "        <td id=\"T_29e84996_b9c8_11e9_8a26_64006a838b96row4_col12\" class=\"data row4 col12\" >nan</td> \n",
       "        <td id=\"T_29e84996_b9c8_11e9_8a26_64006a838b96row4_col13\" class=\"data row4 col13\" >los angeles</td> \n",
       "        <td id=\"T_29e84996_b9c8_11e9_8a26_64006a838b96row4_col14\" class=\"data row4 col14\" >nan</td> \n",
       "        <td id=\"T_29e84996_b9c8_11e9_8a26_64006a838b96row4_col15\" class=\"data row4 col15\" >campanile</td> \n",
       "        <td id=\"T_29e84996_b9c8_11e9_8a26_64006a838b96row4_col16\" class=\"data row4 col16\" >624</td> \n",
       "        <td id=\"T_29e84996_b9c8_11e9_8a26_64006a838b96row4_col17\" class=\"data row4 col17\" >90036</td> \n",
       "        <td id=\"T_29e84996_b9c8_11e9_8a26_64006a838b96row4_col18\" class=\"data row4 col18\" >s la brea ave</td> \n",
       "        <td id=\"T_29e84996_b9c8_11e9_8a26_64006a838b96row4_col19\" class=\"data row4 col19\" >nan</td> \n",
       "        <td id=\"T_29e84996_b9c8_11e9_8a26_64006a838b96row4_col20\" class=\"data row4 col20\" >nan</td> \n",
       "        <td id=\"T_29e84996_b9c8_11e9_8a26_64006a838b96row4_col21\" class=\"data row4 col21\" >20a05006-d08e-4245-b014-ab2d0f552662</td> \n",
       "        <td id=\"T_29e84996_b9c8_11e9_8a26_64006a838b96row4_col22\" class=\"data row4 col22\" >20a05006-d08e-4245-b014-ab2d0f552662</td> \n",
       "    </tr></tbody> \n",
       "</table> "
      ],
      "text/plain": [
       "<pandas.io.formats.style.Styler at 0x7fd62bcc4898>"
      ]
     },
     "execution_count": 10,
     "metadata": {},
     "output_type": "execute_result"
    }
   ],
   "source": [
    "# join match ids to main dataframe\n",
    "matched_address = matched_address.join(match_ids)\n",
    "\n",
    "# preview of our parsed dataframe with uids assigned\n",
    "matched_address.head().style.set_table_styles(styles)"
   ]
  },
  {
   "cell_type": "markdown",
   "metadata": {},
   "source": [
    "# <a id=\"section_fullindex\">Creation of candidate address pairs using a 'full index'</a>"
   ]
  },
  {
   "cell_type": "markdown",
   "metadata": {},
   "source": [
    "Once our addresses have met a particular standard of quality and are segmented into the desired address fields, the next step requires us to create candidate pairs of addresses that potentially resolve to the same address. In record linkage, this step is typically called indexing or blocking, and is required to reduce the number of address pairs that are compared. In doing so we remove pairs that are unlikely to resolve to true matches. To demonstrate the utility of blocking and why it is so important to address matching, we first create a __full index__ which creates all possible combinations of address pairs. More concretely, a full index generates the Cartesian product between both sets of addresses. Conditional on the size of both dataframes, full blocking is highly computationally inefficient, and in our case we create $112\\times 112 = 12544$ candidate links; this has a complexity of $O(n^2)$. We demonstrate the full index method to motivate the desire for practitioners to implement more sophisticated blocking techniques.  "
   ]
  },
  {
   "cell_type": "markdown",
   "metadata": {},
   "source": [
    "### Full index "
   ]
  },
  {
   "cell_type": "markdown",
   "metadata": {},
   "source": [
    "Below, we instantiate an `Index` class before specifying the desired full index method for generating pairs of records. We then create the Cartesian join between the Zagat and Fodor addresses which creates a `MultiIndex` that links every Zagat address with every Fodor address."
   ]
  },
  {
   "cell_type": "code",
   "execution_count": 11,
   "metadata": {},
   "outputs": [
    {
     "name": "stdout",
     "output_type": "stream",
     "text": [
      "WARNING:recordlinkage:indexing - performance warning - A full index can result in large number of record pairs.\n"
     ]
    }
   ],
   "source": [
    "indexer = rl.Index()\n",
    "indexer.full()\n",
    "\n",
    "# create cartesian join between zagat and fodor restaurant addresses\n",
    "candidate_links = indexer.index(matched_address.city_zagat, matched_address.city_fodor)"
   ]
  },
  {
   "cell_type": "code",
   "execution_count": 12,
   "metadata": {},
   "outputs": [
    {
     "name": "stdout",
     "output_type": "stream",
     "text": [
      "12544 candidate links created using full indexing.\n"
     ]
    }
   ],
   "source": [
    "# this creates a two-level multiindex, so we name addresses from the zagat and fodor databases, respectively.\n",
    "candidate_links.names = ['zagat', 'fodor']\n",
    "\n",
    "print('{} candidate links created using full indexing.'.format(len(candidate_links)))"
   ]
  },
  {
   "cell_type": "markdown",
   "metadata": {},
   "source": [
    "In practice, a full index creates a dataframe with 12,544 rows and thus creates candidate address pairs between every possible combination of address from both the Zagat and Fodor datasets. Once we generate this dataframe of potential matches, we create a match status column and assign a 1 to actual matched addresses and 0 to non-matches based on the unique IDs created earlier."
   ]
  },
  {
   "cell_type": "code",
   "execution_count": 13,
   "metadata": {},
   "outputs": [],
   "source": [
    "# lets create a function we can reuse later on\n",
    "def return_candidate_links_with_match_status(candidate_links):\n",
    "    \n",
    "    # we return a vector of label values for both the zagat and fodor restaurant IDs from the multiindex\n",
    "    zagat_ids = candidate_links.get_level_values('zagat')\n",
    "    fodor_ids = candidate_links.get_level_values('fodor')\n",
    "\n",
    "    # now we create a new dataframe as long as the number of candidate links\n",
    "    zagat = matched_address.loc[zagat_ids][['city_zagat', 'house_zagat',\\\n",
    "                                            'house_number_zagat', 'road_zagat', 'suburb_zagat', 'zagat_id']]\n",
    "    fodor = matched_address.loc[fodor_ids][['city_fodor','house_fodor', 'house_number_fodor',\\\n",
    "                                            'road_fodor', 'suburb_fodor', 'fodor_id']]\n",
    "\n",
    "    # vertically concateate addresses from both databases\n",
    "    candidate_link_df = pd.concat([zagat.reset_index(drop=True), fodor.reset_index(drop=True)], axis=1)\n",
    "\n",
    "    # next we create a match status column that we will use to train a machine learning model\n",
    "    candidate_link_df['match_status'] = np.nan\n",
    "\n",
    "    # assign 1 for matched, 0 non-matched\n",
    "    candidate_link_df.loc[candidate_link_df['zagat_id'] == candidate_link_df['fodor_id'], 'match_status'] = 1.\n",
    "    candidate_link_df.loc[ ~(candidate_link_df['zagat_id'] == candidate_link_df['fodor_id']), 'match_status'] = 0.\n",
    "    \n",
    "    return candidate_link_df\n",
    "\n",
    "candidate_link_df = return_candidate_links_with_match_status(candidate_links)"
   ]
  },
  {
   "cell_type": "markdown",
   "metadata": {},
   "source": [
    "### <a id=\"section_comp_vecs_full\">Creation of comparison vectors from indexed addresses</a>"
   ]
  },
  {
   "cell_type": "markdown",
   "metadata": {},
   "source": [
    "To resolve addresses into matches and non-matches we generate comparison vectors between each candidate address pair. Each element of this comparison vector is a similarity metric used to assess the closeness of two address fields. In our case, we use __Jaro-Winkler similarity__ because it has been observed to perform best on attributes containing named values (e.g., property names, street names, or city names) (Christen, 2012; Yancey, 2005). The Jaro similarity of two given address components $a_1$ and $a_2$ is given by\n",
    "\n",
    "$$\n",
    "jaro\\_sim =\\left\\{\n",
    "                \\begin{array}{ll}\n",
    "                  0 \\ \\ \\ \\ \\ \\ \\ \\ \\ \\ \\ \\ \\ \\ \\  \\ \\ \\ \\ \\ \\ \\ \\ \\ \\ \\ \\ \\ \\ \\ \\ \\ \\   if \\ \\ m = 0\\\\\n",
    "                  \\frac{1}{3} (\\frac{m}{|a_1|} + \\frac{m}{|a_2|} + \\frac{m-t}{m}) \\ \\ otherwise\n",
    "                \\end{array}\n",
    "              \\right.\n",
    "  \\\n",
    "$$\n",
    "\n",
    "where $|a_i|$ is the length of the address component string $a_i$, $m$ is the number of matching characters, and $t$ is the number of transpositions required to match the two address components. We will create a function that makes use of the `jellyfish` implementation of Jaro-winkler similarity. Several other string similarity metrics are available and are optimised for particular use cases and data types. See Chapter 5 of Concepts and Techniques for Record Linkage, Entity Resolution, and Duplicate Detection by Peter Christen for an excellent overview."
   ]
  },
  {
   "cell_type": "code",
   "execution_count": 13,
   "metadata": {},
   "outputs": [],
   "source": [
    "def jarowinkler_similarity(s1, s2):\n",
    "    \n",
    "    conc = pd.concat([s1, s2], axis=1, ignore_index=True)\n",
    "    \n",
    "    def jaro_winkler_apply(x):\n",
    "        \n",
    "        try:\n",
    "            return jellyfish.jaro_winkler(x[0], x[1])\n",
    "        # raise error if fields are empty\n",
    "        except Exception as err:\n",
    "            if pd.isnull(x[0]) or pd.isnull(x[1]):\n",
    "                return np.nan\n",
    "            else:\n",
    "                raise err\n",
    "                \n",
    "    # apply row-wise to concatenated columns\n",
    "    return conc.apply(jaro_winkler_apply, axis=1)"
   ]
  },
  {
   "cell_type": "markdown",
   "metadata": {},
   "source": [
    "Before applying Jaro-Winkler similarity we need to choose columns that were segmented in __both__ the Zagat and Fodor datasets."
   ]
  },
  {
   "cell_type": "code",
   "execution_count": 14,
   "metadata": {},
   "outputs": [
    {
     "data": {
      "text/plain": [
       "Index(['city_zagat', 'house_zagat', 'house_number_zagat', 'road_zagat',\n",
       "       'suburb_zagat', 'zagat_id', 'city_fodor', 'house_fodor',\n",
       "       'house_number_fodor', 'road_fodor', 'suburb_fodor', 'fodor_id',\n",
       "       'match_status'],\n",
       "      dtype='object')"
      ]
     },
     "execution_count": 14,
     "metadata": {},
     "output_type": "execute_result"
    }
   ],
   "source": [
    "# lets take a look at the columns we have available\n",
    "candidate_link_df.columns"
   ]
  },
  {
   "cell_type": "markdown",
   "metadata": {},
   "source": [
    "As we can only match columns that were parsed in both address datasets, this means we lose two columns, `city_district_zagat` and `state_fodor`, that were parsed by the CRF segmentation model. Once we observe which address fields are common to both datasets, we create so-called comparison vectors from candidate address pairs of the Zagat and Fodor datasets. Each element of the comparison vector represents the string similarity between address fields contained in both databases. For example, `city_jaro` describes the string similarity between the columns `city_zagat` and `city_fodor`. Looking at the first two rows of our comparison vectors dataframe, a `city_jaro` value of 1.00 implies an exact match whereas a value of 0.4040 implies a number of modifications are required to match the two city names, and so these are less likely to correspond to a match."
   ]
  },
  {
   "cell_type": "code",
   "execution_count": 15,
   "metadata": {},
   "outputs": [
    {
     "data": {
      "text/html": [
       "<style  type=\"text/css\" >\n",
       "    #T_9e1a7ca0_b91c_11e9_8a26_64006a838b96   {\n",
       "          margin: 0;\n",
       "          font-family: \"Helvetica\", \"Arial\", sans-serif;\n",
       "          border-collapse: collapse;\n",
       "          border: none;\n",
       "          border-style: hidden;\n",
       "    }    #T_9e1a7ca0_b91c_11e9_8a26_64006a838b96 td {\n",
       "          border-style: hidden;\n",
       "          border-collapse: collapse;\n",
       "    }    #T_9e1a7ca0_b91c_11e9_8a26_64006a838b96 thead {\n",
       "          background-color: #a4dbc8;\n",
       "    }    #T_9e1a7ca0_b91c_11e9_8a26_64006a838b96 tbody tr:nth-child(even) {\n",
       "          background-color: #fff;\n",
       "    }    #T_9e1a7ca0_b91c_11e9_8a26_64006a838b96 tbody tr:nth-child(odd) {\n",
       "          background-color: #eee;\n",
       "    }    #T_9e1a7ca0_b91c_11e9_8a26_64006a838b96 th {\n",
       "          text-align: center;\n",
       "          border-style: hidden;\n",
       "          border-collapse: collapse;\n",
       "    }    #T_9e1a7ca0_b91c_11e9_8a26_64006a838b96 tbody tr:hover {\n",
       "          background-color: #add8e6;\n",
       "    }</style>  \n",
       "<table id=\"T_9e1a7ca0_b91c_11e9_8a26_64006a838b96\" > \n",
       "<thead>    <tr> \n",
       "        <th class=\"blank level0\" ></th> \n",
       "        <th class=\"col_heading level0 col0\" >city_jaro</th> \n",
       "        <th class=\"col_heading level0 col1\" >house_jaro</th> \n",
       "        <th class=\"col_heading level0 col2\" >house_number_jaro</th> \n",
       "        <th class=\"col_heading level0 col3\" >road_jaro</th> \n",
       "        <th class=\"col_heading level0 col4\" >suburb_jaro</th> \n",
       "        <th class=\"col_heading level0 col5\" >match_status</th> \n",
       "    </tr></thead> \n",
       "<tbody>    <tr> \n",
       "        <th id=\"T_9e1a7ca0_b91c_11e9_8a26_64006a838b96level0_row0\" class=\"row_heading level0 row0\" >0</th> \n",
       "        <td id=\"T_9e1a7ca0_b91c_11e9_8a26_64006a838b96row0_col0\" class=\"data row0 col0\" >1</td> \n",
       "        <td id=\"T_9e1a7ca0_b91c_11e9_8a26_64006a838b96row0_col1\" class=\"data row0 col1\" >1</td> \n",
       "        <td id=\"T_9e1a7ca0_b91c_11e9_8a26_64006a838b96row0_col2\" class=\"data row0 col2\" >1</td> \n",
       "        <td id=\"T_9e1a7ca0_b91c_11e9_8a26_64006a838b96row0_col3\" class=\"data row0 col3\" >1</td> \n",
       "        <td id=\"T_9e1a7ca0_b91c_11e9_8a26_64006a838b96row0_col4\" class=\"data row0 col4\" >0</td> \n",
       "        <td id=\"T_9e1a7ca0_b91c_11e9_8a26_64006a838b96row0_col5\" class=\"data row0 col5\" >1</td> \n",
       "    </tr>    <tr> \n",
       "        <th id=\"T_9e1a7ca0_b91c_11e9_8a26_64006a838b96level0_row1\" class=\"row_heading level0 row1\" >1</th> \n",
       "        <td id=\"T_9e1a7ca0_b91c_11e9_8a26_64006a838b96row1_col0\" class=\"data row1 col0\" >0.40404</td> \n",
       "        <td id=\"T_9e1a7ca0_b91c_11e9_8a26_64006a838b96row1_col1\" class=\"data row1 col1\" >0.568301</td> \n",
       "        <td id=\"T_9e1a7ca0_b91c_11e9_8a26_64006a838b96row1_col2\" class=\"data row1 col2\" >0</td> \n",
       "        <td id=\"T_9e1a7ca0_b91c_11e9_8a26_64006a838b96row1_col3\" class=\"data row1 col3\" >0.629085</td> \n",
       "        <td id=\"T_9e1a7ca0_b91c_11e9_8a26_64006a838b96row1_col4\" class=\"data row1 col4\" >0</td> \n",
       "        <td id=\"T_9e1a7ca0_b91c_11e9_8a26_64006a838b96row1_col5\" class=\"data row1 col5\" >0</td> \n",
       "    </tr>    <tr> \n",
       "        <th id=\"T_9e1a7ca0_b91c_11e9_8a26_64006a838b96level0_row2\" class=\"row_heading level0 row2\" >2</th> \n",
       "        <td id=\"T_9e1a7ca0_b91c_11e9_8a26_64006a838b96row2_col0\" class=\"data row2 col0\" >0</td> \n",
       "        <td id=\"T_9e1a7ca0_b91c_11e9_8a26_64006a838b96row2_col1\" class=\"data row2 col1\" >0.482143</td> \n",
       "        <td id=\"T_9e1a7ca0_b91c_11e9_8a26_64006a838b96row2_col2\" class=\"data row2 col2\" >0</td> \n",
       "        <td id=\"T_9e1a7ca0_b91c_11e9_8a26_64006a838b96row2_col3\" class=\"data row2 col3\" >0.674077</td> \n",
       "        <td id=\"T_9e1a7ca0_b91c_11e9_8a26_64006a838b96row2_col4\" class=\"data row2 col4\" >0</td> \n",
       "        <td id=\"T_9e1a7ca0_b91c_11e9_8a26_64006a838b96row2_col5\" class=\"data row2 col5\" >0</td> \n",
       "    </tr>    <tr> \n",
       "        <th id=\"T_9e1a7ca0_b91c_11e9_8a26_64006a838b96level0_row3\" class=\"row_heading level0 row3\" >3</th> \n",
       "        <td id=\"T_9e1a7ca0_b91c_11e9_8a26_64006a838b96row3_col0\" class=\"data row3 col0\" >0.626263</td> \n",
       "        <td id=\"T_9e1a7ca0_b91c_11e9_8a26_64006a838b96row3_col1\" class=\"data row3 col1\" >0.502778</td> \n",
       "        <td id=\"T_9e1a7ca0_b91c_11e9_8a26_64006a838b96row3_col2\" class=\"data row3 col2\" >0.511111</td> \n",
       "        <td id=\"T_9e1a7ca0_b91c_11e9_8a26_64006a838b96row3_col3\" class=\"data row3 col3\" >0.629085</td> \n",
       "        <td id=\"T_9e1a7ca0_b91c_11e9_8a26_64006a838b96row3_col4\" class=\"data row3 col4\" >0</td> \n",
       "        <td id=\"T_9e1a7ca0_b91c_11e9_8a26_64006a838b96row3_col5\" class=\"data row3 col5\" >0</td> \n",
       "    </tr>    <tr> \n",
       "        <th id=\"T_9e1a7ca0_b91c_11e9_8a26_64006a838b96level0_row4\" class=\"row_heading level0 row4\" >4</th> \n",
       "        <td id=\"T_9e1a7ca0_b91c_11e9_8a26_64006a838b96row4_col0\" class=\"data row4 col0\" >1</td> \n",
       "        <td id=\"T_9e1a7ca0_b91c_11e9_8a26_64006a838b96row4_col1\" class=\"data row4 col1\" >0.45463</td> \n",
       "        <td id=\"T_9e1a7ca0_b91c_11e9_8a26_64006a838b96row4_col2\" class=\"data row4 col2\" >0</td> \n",
       "        <td id=\"T_9e1a7ca0_b91c_11e9_8a26_64006a838b96row4_col3\" class=\"data row4 col3\" >0.831493</td> \n",
       "        <td id=\"T_9e1a7ca0_b91c_11e9_8a26_64006a838b96row4_col4\" class=\"data row4 col4\" >0</td> \n",
       "        <td id=\"T_9e1a7ca0_b91c_11e9_8a26_64006a838b96row4_col5\" class=\"data row4 col5\" >0</td> \n",
       "    </tr></tbody> \n",
       "</table> "
      ],
      "text/plain": [
       "<pandas.io.formats.style.Styler at 0x7f74421e6b70>"
      ]
     },
     "execution_count": 15,
     "metadata": {},
     "output_type": "execute_result"
    }
   ],
   "source": [
    "# create a function for building comparison vectors we can reuse later\n",
    "def return_comparison_vectors(candidate_link_df):\n",
    "    \n",
    "    candidate_link_df['city_jaro'] = jarowinkler_similarity(candidate_link_df.city_zagat, candidate_link_df.city_fodor)\n",
    "    candidate_link_df['house_jaro'] = jarowinkler_similarity(candidate_link_df.house_zagat, candidate_link_df.house_fodor)\n",
    "    candidate_link_df['house_number_jaro'] = jarowinkler_similarity(candidate_link_df.house_number_zagat, candidate_link_df.house_number_fodor)\n",
    "    candidate_link_df['road_jaro'] = jarowinkler_similarity(candidate_link_df.road_zagat, candidate_link_df.road_fodor)\n",
    "    candidate_link_df['suburb_jaro'] = jarowinkler_similarity(candidate_link_df.suburb_zagat, candidate_link_df.suburb_fodor)\n",
    "\n",
    "    # now we build a dataframe that contains the jaro-winkler similarity between the address components and the matching status\n",
    "    comparison_vectors = candidate_link_df[['city_jaro', 'house_jaro', 'house_number_jaro',\\\n",
    "                                            'road_jaro', 'suburb_jaro', 'match_status']]\n",
    "    \n",
    "    # set NaN values to 0 so the comparison vectors can work with the applied classifiers\n",
    "    comparison_vectors = comparison_vectors.fillna(0.)\n",
    "    \n",
    "    return comparison_vectors\n",
    "\n",
    "comparison_vectors = return_comparison_vectors(candidate_link_df)\n",
    "\n",
    "# lets preview this dataframe to build some intution as to how it looks\n",
    "comparison_vectors.head().style.set_table_styles(styles)"
   ]
  },
  {
   "cell_type": "markdown",
   "metadata": {},
   "source": [
    "### <a id=\"section_classification_fullindex\">Classification and evaluation of match performance</a>"
   ]
  },
  {
   "cell_type": "markdown",
   "metadata": {},
   "source": [
    "Once we obtain comparison vectors for each candidate address pair, we frame our approach as a binary classification problem by resolving the vectors into matches and non-matches. As the Zagat and Fodors dataframe has labels that describe our address pairs as matched, we use supervised classification to train a statistical model, a __random forest__, to classify address pairs with an unknown match status into matches and non-matches. As a reminder, a random forest is generated using a multitude of decision trees during training which then outputs the mode of the match status decision for the individual trees. \n",
    "\n",
    "In practice, we initialize a random forest object and split our `comparison_vectors` dataframe into features containing our Jaro-Winkler string similarity features, $X$, and a vector used to predict match status of the addresses, $y$."
   ]
  },
  {
   "cell_type": "code",
   "execution_count": null,
   "metadata": {},
   "outputs": [],
   "source": [
    "# create a random forest classifier that uses 100 trees and number of cores equal to those available on machine\n",
    "rf = RandomForestClassifier(n_estimators = 100, \n",
    "                             # Due to small number of features (5) we do not limit depth of trees\n",
    "                            max_depth = None, \n",
    "                            # max number of features to evaluate split is sqrt(n_features)\n",
    "                            max_features = 'auto', \n",
    "                            n_jobs = os.cpu_count())\n",
    "\n",
    "# define metrics we use to assess the model\n",
    "scoring = ['precision', 'recall', 'f1']\n",
    "folds = 10\n",
    "\n",
    "# extract the jaro-winkler string similarity and match label\n",
    "X = comparison_vectors.iloc[:, 0:5]\n",
    "y = comparison_vectors['match_status']"
   ]
  },
  {
   "cell_type": "markdown",
   "metadata": {},
   "source": [
    "To evaluate the performance of our built classification model, we use 10-fold cross-validation meaning the performance measures are averaged across the test sets used within the 10 folds. We use three metrics that are commonly used to evaluate machine learning models. Recall measures the proportion of address pairs that should have been classified, or recalled, as matched (Christen, 2012). The precision (or, equivalently, the positive predictive value) calculates the proportion of the matched address pairs that are classified correctly as true matches (Christen, 2012). Finally, the F1 score reflects the harmonic mean between precision and recall. Our cross-validation exercise is executed in the following cell."
   ]
  },
  {
   "cell_type": "code",
   "execution_count": 16,
   "metadata": {},
   "outputs": [],
   "source": [
    "# 10-fold cross-validation procedure\n",
    "scores = cross_validate(estimator = rf,\n",
    "                X = X,\n",
    "                y = y,\n",
    "                cv = folds, \n",
    "                scoring = scoring,\n",
    "                return_train_score = False)"
   ]
  },
  {
   "cell_type": "code",
   "execution_count": 17,
   "metadata": {},
   "outputs": [
    {
     "name": "stdout",
     "output_type": "stream",
     "text": [
      "Mean precision score is 0.9546 over 10 folds.\n",
      "Mean recall score is 0.928 over 10 folds.\n",
      "Mean F1 score is 0.9383 over 10 folds.\n"
     ]
    }
   ],
   "source": [
    "print('Mean precision score is {} over {} folds.'.format( np.round(np.mean(scores['test_precision']), 4), folds))\n",
    "print('Mean recall score is {} over {} folds.'.format( np.round(np.mean(scores['test_recall']), 4), folds))\n",
    "print('Mean F1 score is {} over {} folds.'.format( np.round(np.mean(scores['test_f1']), 4), folds))"
   ]
  },
  {
   "cell_type": "markdown",
   "metadata": {},
   "source": [
    "Overall, the high precision value implies that 95% of true positives are successfully disambiguated from false positives. Moreover, our recall value implies that 93% of all potential matches were successfully returned, with the remaining 7% of correct matches incorrectly labelled as false negatives. Given the high values in both of these metrics, the accompanying F1 score is equally high."
   ]
  },
  {
   "cell_type": "markdown",
   "metadata": {},
   "source": [
    "# <a id=\"section_blocking\">Creation of candidate address pairs by blocking on zipcode</a>"
   ]
  },
  {
   "cell_type": "markdown",
   "metadata": {},
   "source": [
    "While a Cartesian product could be useful in a linkage exercise where we have a very small number of matched addresses, in production environments more sophisticated techniques are generally required to create candidate address links. This is particularly the case when we have a large number of addresses. Thus, blocking is typically introduced to partition the set of all possible address comparisons to within mutually exclusive blocks. If we let $b$ equal the number of blocks, we reduce the complexity of the comparison exercise to $O(\\frac{n^2}{b})$, which is far more computationally tractable than the full index method used above.\n",
    "\n",
    "When deciding which column to use as a blocking key we generally need pay attention to two main considerations. Firstly, we pay attention to attribute data quality. Typically when identifying a blocking key, we choose a key that has a __low number of missing values__. This is because choosing a key with many missing values forces a large number of addresses into a block where the key is an empty value, which may lead to many misclassified address matches. And secondly we pay attention to the __frequency distribution__ of attribute values. We optimise towards a uniform distribution of values, as typically skewed distributions that result in some values occurring very frequently mean that these values will dominate the candidate pairs of address generated. \n",
    "\n",
    "These considerations are addressed in the following two code blocks."
   ]
  },
  {
   "cell_type": "code",
   "execution_count": 20,
   "metadata": {},
   "outputs": [
    {
     "name": "stdout",
     "output_type": "stream",
     "text": [
      "Missing postcodes for Zagat addresses: 1. \n",
      "Missing postcodes for Fodor addresses: 0.\n"
     ]
    }
   ],
   "source": [
    "print(\"Missing postcodes for Zagat addresses: {}. \\nMissing postcodes for Fodor addresses: {}.\"\n",
    "      .format(matched_address.postcode_zagat.isnull().sum(), matched_address.postcode_fodor.isnull().sum()))"
   ]
  },
  {
   "cell_type": "code",
   "execution_count": 21,
   "metadata": {},
   "outputs": [
    {
     "data": {
      "image/png": "[encoded data removed]",
      "text/plain": [
       "<Figure size 720x432 with 1 Axes>"
      ]
     },
     "metadata": {},
     "output_type": "display_data"
    }
   ],
   "source": [
    "# check distribution of postcode blocks\n",
    "pc_dist = matched_address.groupby('postcode_fodor').size().to_frame().rename(columns={0:'n_addresses'})\n",
    "\n",
    "f, ax = plt.subplots(1, figsize=(10,6))\n",
    "sns.kdeplot(pc_dist.n_addresses.values, color='g', shade=True, legend=False)\n",
    "ax.set_xlabel('Number of addresses in postcode block ($\\mu = {}$, $\\sigma = {}$).'\n",
    "              .format(np.mean(pc_dist.n_addresses), np.round(np.std(pc_dist.n_addresses), 2)), size=15)\n",
    "plt.show()"
   ]
  },
  {
   "cell_type": "markdown",
   "metadata": {},
   "source": [
    "The postcode attribute looks like a sensible choice of blocking key because it contains just one missing value and there are very low numbers of candidate address comparisons within each block. As you can see in the output below, when we use a more sophisticated indexing technique we generate a far lower number of candidate address comparisons. In fact, we create only 1014 candidate address links despite adding synthetic non-matches (discussed below). Overall, our introduction of blocking substantially lowers the computational requirement of the linkage task."
   ]
  },
  {
   "cell_type": "markdown",
   "metadata": {},
   "source": [
    "### <a id=\"section_synthetic_nonmatches\">Creation of synthetic non-matched addresses</a>"
   ]
  },
  {
   "cell_type": "markdown",
   "metadata": {},
   "source": [
    "To make this exercise more realistic, let's also create 112 synthetic non-matches so we have 224 addresses in total. This will also be important for training our machine learning technique to learn the representations of non-matched addresses in addition to matches. In this case we use the FEBRL data set generator script `generate.py` to create an artificially generated dataset (see http://users.cecs.anu.edu.au/~Peter.Christen/Febrl/febrl-0.3/febrldoc-0.3/node70.html). The script uses Python 2.7, so we read the output as JSON so the user does not have to rely on an external input. We do this in keeping with a self-contained notebook but describe the steps required to reproduce the non-matches below. \n",
    "\n",
    "The synthetic non-matches are essentially random permutations of the matched addresses. These are constructed on the basis of frequency tables for each address field that count the occurrence of particular values. For example, the first row of a frequency table for a house number would look like: $<$house_number_attribute_value$>$,$<$frequency_of_occurence$>$."
   ]
  },
  {
   "cell_type": "code",
   "execution_count": 19,
   "metadata": {},
   "outputs": [],
   "source": [
    "# first we need columns from the zagat and fodor databases to create random addresses\n",
    "zagat_cols = ['city_zagat', 'house_number_zagat', 'house_zagat', 'suburb_zagat', 'road_zagat', 'postcode_zagat']\n",
    "fodor_cols = ['city_fodor', 'house_number_fodor', 'house_fodor', 'suburb_fodor', 'road_fodor','postcode_fodor']\n",
    "\n",
    "# create a directory for address component frequencies\n",
    "if not os.path.exists('freqs'):\n",
    "    os.makedirs('freqs')\n",
    "\n",
    "# create distributions of address components for both datasets that will be used to create fake addresses\n",
    "for cols in [zagat_cols, fodor_cols]:\n",
    "    for col in cols:\n",
    "        freq = matched_address[col].value_counts().reset_index()\n",
    "        freq.to_csv('freqs/{}_freq.csv'.format(col), index=False, header=False)"
   ]
  },
  {
   "cell_type": "markdown",
   "metadata": {},
   "source": [
    "`generate.py` takes six parameters that are used to create non-matched addresses. The first argument demarcates the number of original records to be generated; the second specifies the number of duplicate records from the original to be generated; and the third, fourth and fifth arguments define the maximal number of duplicate records that will be created based on one original record, the maximum number of modifications introduced to the address field, and the maximum number of modifications introduced to the address, respectively. The final parameter is used to enter which probability distribution will be to create duplicate records - i.e. uniform, poisson, or zipf. In our case we are only interested in building synthetic non-matches (and not duplicates), so we set the number of original records to be built as 112, the number of duplicates generated as 0, and leave the number of modifications introduced by the recommended default settings.\n",
    "\n",
    "In addition, for each address field, users are asked to define a dictionary inside `generate.py` that outlines the probability for particular modifications. This includes setting the probability of modifications such as misspellings, insertions, deletions, substitutions and transpositions of word and characters. An example dictionary for the house number address field is given below where we set the file path to the word frequency CSV generated above:"
   ]
  },
  {
   "cell_type": "code",
   "execution_count": 114,
   "metadata": {},
   "outputs": [],
   "source": [
    "house_number_dict = {'name':'house_number',\n",
    "                     'type':'freq',\n",
    "               'char_range':'digit',\n",
    "              # 'freq_file':'freqs/house_number_fodor_freq.csv',\n",
    "               'freq_file':'freqs/house_number_zagat_freq.csv',\n",
    "              'select_prob':0.20,\n",
    "                 'ins_prob':0.10,\n",
    "                 'del_prob':0.16,\n",
    "                 'sub_prob':0.54,\n",
    "               'trans_prob':0.00,\n",
    "            'val_swap_prob':0.00,\n",
    "            'wrd_swap_prob':0.00,\n",
    "             'spc_ins_prob':0.00,\n",
    "             'spc_del_prob':0.00,\n",
    "                'miss_prob':0.00,\n",
    "             'new_val_prob':0.20}"
   ]
  },
  {
   "cell_type": "markdown",
   "metadata": {},
   "source": [
    "Damerau (1964) finds the proportions of typographical errors are typically spread as substitutions (59%), deletions (16%), transpositions (2%), insertions (10%) and multiple errors (13%). For this reason we broadly align our dictionary probabilities with these findings. After defining sensible probabilities for modifications, we execute the following scripts on a terminal which will create a file, `zagat_synthetic_addresses.csv` and `fodor_synthetic_addresses.csv` consisting of synthetic addresses from the Zagat and Fodor datasets, respectively. \n",
    "\n",
    "For simplicity we generate our non-matches using all the data at once. However, in a real-world application, we might wish to create non-matches within each zipcode block one at a time. This would create more realistic synthetic non-matches. This is because non-matched addresses would be constructed from the frequency tables of each zipcode block, meaning each non-match would share more commonality to actual matched addresses. In practice, this would improve the predictive power of our classification model to disambiguate between candidate address pairs that have very subtle differences yet are still matched or non-matched."
   ]
  },
  {
   "cell_type": "code",
   "execution_count": 112,
   "metadata": {},
   "outputs": [
    {
     "name": "stdout",
     "output_type": "stream",
     "text": [
      "\n",
      "Create 112 original and 0 duplicate records\n",
      "  Distribution of number of duplicates (maximal 4 duplicates):\n",
      "  [(1, 0.0), (2, 0.375), (3, 0.75), (4, 0.9375)]\n",
      "\n",
      "Step 1: Load and process frequency tables and misspellings dictionaries\n",
      "\n",
      "Step 2: Create original records\n",
      "\n",
      "\n",
      "Step 2: Create duplicate records\n",
      "\n",
      "\n",
      "Step 3: Write output file\n",
      "End.\n"
     ]
    }
   ],
   "source": [
    "# ! python2 generate.py zagat_synthetic_addresses.csv 112 0 4 2 2 poisson"
   ]
  },
  {
   "cell_type": "code",
   "execution_count": 43,
   "metadata": {},
   "outputs": [
    {
     "name": "stdout",
     "output_type": "stream",
     "text": [
      "\n",
      "Create 112 original and 0 duplicate records\n",
      "  Distribution of number of duplicates (maximal 4 duplicates):\n",
      "  [(1, 0.0), (2, 0.375), (3, 0.75), (4, 0.9375)]\n",
      "\n",
      "Step 1: Load and process frequency tables and misspellings dictionaries\n",
      "\n",
      "Step 2: Create original records\n",
      "\n",
      "\n",
      "Step 2: Create duplicate records\n",
      "\n",
      "\n",
      "Step 3: Write output file\n",
      "End.\n"
     ]
    }
   ],
   "source": [
    "# ! python2 generate.py fodor_synthetic_addresses.csv 112 0 4 2 2 poisson"
   ]
  },
  {
   "cell_type": "markdown",
   "metadata": {},
   "source": [
    "We then read these synthetic non-matches into a dataframe."
   ]
  },
  {
   "cell_type": "code",
   "execution_count": 116,
   "metadata": {},
   "outputs": [],
   "source": [
    "# read parsed synthetic addresses\n",
    "synthetic_zagat_address = pd.read_csv('zagat_synthetic_addresses.csv').add_suffix('_zagat').drop(columns=['rec_id_zagat'])\n",
    "synthetic_fodor_address = pd.read_csv('fodor_synthetic_addresses.csv').add_suffix('_fodor').drop(columns=['rec_id_fodor'])\n",
    "\n",
    "# set uids for synthetic addresses\n",
    "synthetic_zagat_address['zagat_id'] = [str(uuid.uuid4()) for i in synthetic_zagat_address.iterrows()] \n",
    "synthetic_fodor_address['fodor_id'] = [str(uuid.uuid4()) for i in synthetic_fodor_address.iterrows()]\n",
    "\n",
    "# join synthetic zagat and fodor addresses vertically\n",
    "synthetic_non_matches = synthetic_zagat_address.join(synthetic_fodor_address)\n",
    "\n",
    "# remove whitespace from column names and attributes\n",
    "synthetic_non_matches = synthetic_non_matches.rename(columns = lambda x : x.strip())\n",
    "synthetic_non_matches = synthetic_non_matches.applymap(lambda x : x.strip() if type(x) == str else x)"
   ]
  },
  {
   "cell_type": "markdown",
   "metadata": {},
   "source": [
    "Now we have generated synthetic non-matches, we need to join these back to our dataframe of matched addresses. As the above steps require external scripts we provide the JSON required to reconstruct the synthetic dataframe below. This can be read by executing the cell below which uses the `pd.read_json` function."
   ]
  },
  {
   "cell_type": "code",
   "execution_count": 35,
   "metadata": {},
   "outputs": [],
   "source": [
    "f = 'synthetic_addresses.json'\n",
    "\n",
    "synthetic_non_matches = pd.read_json(f)"
   ]
  },
  {
   "cell_type": "markdown",
   "metadata": {},
   "source": [
    "In the cell below we join our matched addresses with our synthetic non-matches, creating a dataframe of 224 address pairs."
   ]
  },
  {
   "cell_type": "code",
   "execution_count": 36,
   "metadata": {},
   "outputs": [
    {
     "name": "stdout",
     "output_type": "stream",
     "text": [
      "224 address pairs created consisting of 112 matches and 112 synthetic non-matches.\n"
     ]
    }
   ],
   "source": [
    "# align columns of matched_address dataframe for horizontal join\n",
    "matched_address = matched_address[['house_zagat', 'house_number_zagat', 'road_zagat', 'suburb_zagat', 'city_zagat', 'postcode_zagat','zagat_id', 'house_fodor', 'house_number_fodor', 'road_fodor', 'suburb_fodor', 'city_fodor', 'postcode_fodor', 'fodor_id']]\n",
    "\n",
    "# horizontal join between matched addresses and synthetic non-matches\n",
    "matches_with_non_matches = pd.concat([matched_address, synthetic_non_matches], ignore_index=True)\n",
    "\n",
    "print('{} address pairs created consisting of {} matches and {} synthetic non-matches.'.format(matches_with_non_matches.shape[0],\n",
    "                                                                                               matched_address.shape[0],\n",
    "                                                                                               synthetic_non_matches.shape[0]))"
   ]
  },
  {
   "cell_type": "markdown",
   "metadata": {},
   "source": [
    "### <a id=\"section_blocking_postcode_attribute\">Blocking on postcode attribute</a>"
   ]
  },
  {
   "cell_type": "markdown",
   "metadata": {},
   "source": [
    "With our matches and synthetic non-matches assembled into a dataframe with 224 address pairs, we can proceed to block on postcode values to create mutually exclusive address partitions. Thus, for every unique postcode value, a dataframe (or block) will be created in which candidate address pairs will be matched and non-matched based on attributes of their comparison vectors. \n",
    "\n",
    "The following code block creates a `MultiIndex` that links together the IDs of addresses that are within the same zipcode block."
   ]
  },
  {
   "cell_type": "code",
   "execution_count": 37,
   "metadata": {},
   "outputs": [
    {
     "name": "stdout",
     "output_type": "stream",
     "text": [
      "1014 candidate links created using the postcode attribute as a blocking key.\n"
     ]
    }
   ],
   "source": [
    "indexer = rl.Index()\n",
    "\n",
    "# block on postcode attribute\n",
    "indexer.block(left_on='postcode_zagat', right_on='postcode_fodor')\n",
    "candidate_links = indexer.index(matches_with_non_matches, matches_with_non_matches)\n",
    "\n",
    "# this creates a two-level multiindex, so we name addresses from the zagat and fodor databases, respectively.\n",
    "candidate_links.names = ['zagat', 'fodor']\n",
    "\n",
    "print('{} candidate links created using the postcode attribute as a blocking key.'.format(len(candidate_links)))"
   ]
  },
  {
   "cell_type": "markdown",
   "metadata": {},
   "source": [
    "We follow the same work flow as before and create comparison vectors for every 1014 candidate address links."
   ]
  },
  {
   "cell_type": "code",
   "execution_count": 38,
   "metadata": {},
   "outputs": [],
   "source": [
    "candidate_link_df = return_candidate_links_with_match_status(candidate_links)\n",
    "\n",
    "comparison_vectors = return_comparison_vectors(candidate_link_df)"
   ]
  },
  {
   "cell_type": "markdown",
   "metadata": {},
   "source": [
    "Following this, we train our random forest on the comparison vectors and match status labels. We use a 75/25 split for our train and test data."
   ]
  },
  {
   "cell_type": "code",
   "execution_count": 39,
   "metadata": {},
   "outputs": [],
   "source": [
    "X = comparison_vectors.iloc[:, 0:5]\n",
    "y = comparison_vectors.match_status\n",
    "\n",
    "X_train, X_test, y_train, y_test = train_test_split(X, y, test_size=0.25)\n",
    "\n",
    "# create a random forest classifier that uses 100 trees and number of cores equal to those available on machine\n",
    "rf = RandomForestClassifier(n_estimators = 100, \n",
    "                             # Due to small number of features (5) we do not limit depth of trees\n",
    "                            max_depth = None, \n",
    "                            # max number of features to evaluate split is sqrt(n_features)\n",
    "                            max_features = 'auto', \n",
    "                            n_jobs = os.cpu_count())\n",
    "\n",
    "# predict match status of unseen address pairs\n",
    "y_pred = rf.fit(X_train, y_train).predict(X_test)"
   ]
  },
  {
   "cell_type": "markdown",
   "metadata": {},
   "source": [
    "### <a id=\"section_evaluation\">Classification and evaluation of match performance</a>"
   ]
  },
  {
   "cell_type": "markdown",
   "metadata": {},
   "source": [
    "Having fit our random forest on the training data we can now assess the model under the number of metrics we introduced earlier. We can also produce a confusion matrix which shows true negatives in the top-left quadrant, false positives in the top-right, false negatives in the bottom-left and true positives in the bottom-right. At first glance, the findings from the evaluation metrics below may seem counter-intuitive, especially as the results of the classification exercise using the full index performed better. However, it is pertinent to remind ourselves that we trained our classification model on __matched address only__, which reflected an idealised but unrealistic scenario. In the results below we introduced synthetic non-matches which reflected a scenario that a user is more likely to encounter in a real-world address matching exercise. \n",
    "\n",
    "In the following code block we generate evaluation metrics and a confusion matrix for evaluating match performance."
   ]
  },
  {
   "cell_type": "code",
   "execution_count": 40,
   "metadata": {},
   "outputs": [
    {
     "name": "stdout",
     "output_type": "stream",
     "text": [
      "Precision score: 0.8519.\n",
      "Recall score: 0.8846.\n",
      "F1 score: 0.8679.\n"
     ]
    },
    {
     "data": {
      "image/png": "[encoded data removed]",
      "text/plain": [
       "<Figure size 720x432 with 2 Axes>"
      ]
     },
     "metadata": {},
     "output_type": "display_data"
    }
   ],
   "source": [
    "print('Precision score: {}.'.format(np.round(precision_score(y_test, y_pred), 4)))\n",
    "print('Recall score: {}.'.format(np.round(recall_score(y_test, y_pred), 4)))\n",
    "print('F1 score: {}.'.format(np.round(f1_score(y_test, y_pred), 4)))\n",
    "\n",
    "f,ax = plt.subplots(1, figsize=(10,6))\n",
    "f.set_tight_layout(False)\n",
    "\n",
    "fontsize=12\n",
    "sns.heatmap(confusion_matrix(y_test, y_pred), \n",
    "            ax=ax, \n",
    "            annot=True, \n",
    "            annot_kws={'fontsize': 16}, \n",
    "            cmap='Greens', \n",
    "            fmt='g')\n",
    "ax.set_yticklabels(['Match', 'Non-match'], fontsize=fontsize)\n",
    "ax.set_xticklabels(['Non-match', 'Match'], fontsize=fontsize);\n",
    "ax.set_ylabel('True label', fontsize=fontsize)\n",
    "ax.set_xlabel('Predicted label', fontsize=fontsize)\n",
    "ax.xaxis.labelpad = 18\n",
    "ax.yaxis.labelpad = 18\n",
    "plt.show();"
   ]
  },
  {
   "cell_type": "markdown",
   "metadata": {},
   "source": [
    "Overall, our precision value implied 85% of true positives were correctly separated from false positives, and our recall value indicated that 88% of all true address matches were successfully retrieved, with the remaining 12% incorrectly classified as non-matches. With our model now fitted and tested, we could extend its use to predict the match status of unseen address pairs. As an example application, if we had a small sample of matched addresses that belonged to a larger set of unmatched addresses, we could use our trained predictive model to match the remaining addresses in the dataset. This would work so long as the textual representations of addresses used in the prediction stage follow a similar structure to those addresses used to train the classification model.\n",
    "\n",
    "Before we conclude, a benefit of using ensemble methods such as random forest classifiers is that we can return an indication of how useful and valuable each feature was in the construction of each decision tree. In a practical application, extracting a measure of feature importance might be a useful step in pruning redundant features from the comparison vectors. This might be a useful step in lowering computation times as we decrease the number of address field comparisons required to evaluate candidate address pairs. \n",
    "\n",
    "Thus, in the following code block we rank feature importance of particular address fields to the match classification. "
   ]
  },
  {
   "cell_type": "code",
   "execution_count": 41,
   "metadata": {},
   "outputs": [
    {
     "data": {
      "image/png": "[encoded data removed]",
      "text/plain": [
       "<Figure size 720x432 with 1 Axes>"
      ]
     },
     "metadata": {},
     "output_type": "display_data"
    }
   ],
   "source": [
    "# extract feature importances from random forest classifier\n",
    "feature_importance_to_match = rf.feature_importances_\n",
    "\n",
    "# calculate standard deviation of feature importances across trees\n",
    "std = np.std([tree.feature_importances_ for tree in rf.estimators_], axis=0)\n",
    "indices = np.argsort(feature_importance_to_match)[::-1]\n",
    "\n",
    "# plot importances alongside feature labels\n",
    "plt.figure(figsize=(10,6))\n",
    "plt.title(\"Feature importances of address attributes to match\", size=15)\n",
    "plt.bar(range(X_train.shape[1]), feature_importance_to_match[indices],\n",
    "       color=\"#3CB371\", yerr=std[indices], align=\"center\")\n",
    "feature_labs = X_train.columns[np.argsort(feature_importance_to_match)[::-1]].values\n",
    "plt.xticks(range(X_train.shape[1]), feature_labs, size=12)\n",
    "plt.xlim([-1, X_train.shape[1]])\n",
    "plt.show()"
   ]
  },
  {
   "cell_type": "markdown",
   "metadata": {},
   "source": [
    "In our case, and as one might expect, the restaurant's house number, `house_number_jaro` is the most important feature used for resolving candidate pairs of addresses into a match while the suburb, `suburb_jaro`, is the least important feature and so could possibly be removed as an address field from the comparison step."
   ]
  },
  {
   "cell_type": "markdown",
   "metadata": {},
   "source": [
    "# <a id=\"section_conclusion\">Conclusion</a>"
   ]
  },
  {
   "cell_type": "markdown",
   "metadata": {},
   "source": [
    "Address matching is a data enrichment process that is increasingly required in wide-ranging, real-world applications. For example, matching between census, commercial or lifestyle records has the potential benefit of improving data quality, enabling spatial data visualisation and joining data that would otherwise remain isolated in data silos. In absence of unique identifiers for directly linking data, practitioners have typically relied on statistical linkage methods for matching addresses. Linking address datasets in this way has the potential to unlock attributes that one would be unable to access in circumstances where no primary keys exist to join the two datasets. Thus, in this notebook, we documented the steps required to execute the work flow for an address matching exercise that utilised new and recent innovations in machine learning. While the dataset we used was low volume, the intention of the notebook was to demonstrate an approach that is reproducible within a self-contained environment, and which might be adapted by the interested user to larger data challenges. Training a predictive model to link restaurant addresses may seem a trivial problem to solve, but these addresses could easily be replaced by more meaningful address records in areas such as public health and socio-economic mobility studies. Therefore, the core contribution of this notebook sought to equip the regional scientist with skills necessary to extend the address matching work flow to their own (and far more interesting) use cases."
   ]
  },
  {
   "cell_type": "markdown",
   "metadata": {},
   "source": [
    "# <a id=\"section_bibliography\">Bibliography</a>\n",
    "\n",
    "<ul>\n",
    "    <li>Baldovin, T., Zangrando, D., Casale, P., Ferrarese, F., Bertoncello, C., Buja, A., Marcolongo, A. and Baldo, V. (2015) Geocoding health data with geographic information systems: A pilot study in northeast Italy for developing a standardized data‐acquiring format. Journal of Preventive Medicine & Hygiene, 56, 88–94.</li>\n",
    "    <li>Cayo, R. and Talbot, T. O. (2003) Positional error in automated geocoding of residential addresses. International Journal of Health Geographics, 2, 1–10.</li>\n",
    "    <li>Christen, P. (2012) Data matching: Concepts and techniques for record linkage, entity resolution, and duplicate detection. New York, NY: Springer.</li>\n",
    "    <li>Comber, S. and Arribas‐Bel, D. (2019) Machine learning innovations in address matching: A practical comparison of word2vec and CRFs. Transactions in GIS.23, 334–348.</li>\n",
    "    <li>Damerau, F. (1964). A technique for computer detection and correction of spelling errors. Commun. ACM, 7, 171-176.</li>\n",
    "    <li>Diesner, J., and Carley, M. (2008). Conditional random fields for entity extraction and ontological text coding.\n",
    "Computational and Mathematical Organization Theory, 14, 248–262</li>\n",
    "    <li>Lafferty, J., McCallum, A., and Pereira, F. (2001). Conditional random fields: Probabilistic models for segmenting\n",
    "and labelling sequence data. In C. E. Brodley and A. P. Danyluk (Eds.), Proceedings of the 18th International Conference on\n",
    "Machine Learning (pp. 282–289). San Francisco, CA: Morgan Kaufmann</li>\n",
    "    <li>Reynolds, P., Behren, J. V., Gunier, R., Goldberg, D., Hertz, A., and Smith, D. (2003) Childhood cancer incidence rates and hazardous air pollutants in California: An exploratory analysis. Environmental Health Perspectives, 111, 663–668.</li>\n",
    "    <li>Ruggles, S., Fitch, C. and Roberts, E. (2018) Historical Census Record Linkage. Annual Review of Sociology, 44 (1), 19-37.</li>\n",
    "    <li>Yancey, W. (2005) Evaluating string comparator performance for record linkage (Research Report Series, Statistics\n",
    "#2005‐05). Washington, DC: U.S. Bureau of the Census.</li>\n",
    "</ul>"
   ]
  }
 ],
 "metadata": {
  "kernelspec": {
   "display_name": "Python 3",
   "language": "python",
   "name": "python3"
  },
  "language_info": {
   "codemirror_mode": {
    "name": "ipython",
    "version": 3
   },
   "file_extension": ".py",
   "mimetype": "text/x-python",
   "name": "python",
   "nbconvert_exporter": "python",
   "pygments_lexer": "ipython3",
   "version": "3.7.3"
  }
 },
 "nbformat": 4,
 "nbformat_minor": 4
}
